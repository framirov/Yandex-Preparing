{
 "cells": [
  {
   "cell_type": "code",
   "execution_count": null,
   "metadata": {},
   "outputs": [],
   "source": [
    "s1 = input()\n",
    "s2 = input()\n",
    "dict = {}\n",
    "if len(s1) != len(s2):\n",
    "    print(0)\n",
    "    fl = False\n",
    "else:\n",
    "    for i in range(len(s1)):\n",
    "        if s1[i] in dict:\n",
    "            dict[s1[i]] += 1\n",
    "        else:\n",
    "            dict[s1[i]] = 1\n",
    "        if s2[i] in dict:\n",
    "            dict[s2[i]] -= 1\n",
    "        else:\n",
    "            dict[s2[i]] = -1\n",
    "    s = 0\n",
    "    fl = True\n",
    "    for i in dict:\n",
    "        if (dict[i] != 0):\n",
    "            print(0)\n",
    "            fl = False\n",
    "            break\n",
    "    if fl:\n",
    "        print(1)"
   ]
  }
 ],
 "metadata": {
  "kernelspec": {
   "display_name": "Python 3",
   "language": "python",
   "name": "python3"
  },
  "language_info": {
   "codemirror_mode": {
    "name": "ipython",
    "version": 3
   },
   "file_extension": ".py",
   "mimetype": "text/x-python",
   "name": "python",
   "nbconvert_exporter": "python",
   "pygments_lexer": "ipython3",
   "version": "3.8.3"
  }
 },
 "nbformat": 4,
 "nbformat_minor": 4
}
