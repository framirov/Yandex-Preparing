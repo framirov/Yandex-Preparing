{
 "cells": [
  {
   "cell_type": "code",
   "execution_count": null,
   "metadata": {},
   "outputs": [],
   "source": [
    "n = int(input())\n",
    "c = []\n",
    "roads = {}\n",
    "for i in range(n):\n",
    "    a, b = [int(x) for x in input().strip().split(' ')]\n",
    "    c += [[a, b]]\n",
    "    roads[i] = []\n",
    "k = int(input())\n",
    "for i in range(n):\n",
    "    for j in range(i):\n",
    "        l = abs(c[i][0] - c[j][0]) + abs(c[i][1] - c[j][1])\n",
    "        if l <= k:\n",
    "            roads[i] += [j]\n",
    "            roads[j] += [i]\n",
    "a,b = [int(x) for x in input().strip().split(' ')]\n",
    "a -= 1\n",
    "b -= 1\n",
    "cost = [-1] * n\n",
    "cost[a] = 0\n",
    "queue = [a]\n",
    "while queue:\n",
    "    i = queue.pop(0)\n",
    "    for j in roads[i]: \n",
    "        if cost[j] == -1: \n",
    "            queue.append(j) \n",
    "            cost[j] = cost[i] + 1\n",
    "print(cost[b])"
   ]
  }
 ],
 "metadata": {
  "kernelspec": {
   "display_name": "Python 3",
   "language": "python",
   "name": "python3"
  },
  "language_info": {
   "codemirror_mode": {
    "name": "ipython",
    "version": 3
   },
   "file_extension": ".py",
   "mimetype": "text/x-python",
   "name": "python",
   "nbconvert_exporter": "python",
   "pygments_lexer": "ipython3",
   "version": "3.8.3"
  }
 },
 "nbformat": 4,
 "nbformat_minor": 4
}
