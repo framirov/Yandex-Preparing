{
 "cells": [
  {
   "cell_type": "code",
   "execution_count": null,
   "metadata": {},
   "outputs": [],
   "source": [
    "def brackets(s, a, b):\n",
    "    if (a + b == 2 * n):\n",
    "        print(s)\n",
    "    if a < n:\n",
    "        brackets(s + '(', a + 1, b)\n",
    "    if a > b:\n",
    "        brackets(s + ')', a, b + 1)\n",
    "\n",
    "n = int(input())\n",
    "brackets('',0,0)"
   ]
  }
 ],
 "metadata": {
  "kernelspec": {
   "display_name": "Python 3",
   "language": "python",
   "name": "python3"
  },
  "language_info": {
   "codemirror_mode": {
    "name": "ipython",
    "version": 3
   },
   "file_extension": ".py",
   "mimetype": "text/x-python",
   "name": "python",
   "nbconvert_exporter": "python",
   "pygments_lexer": "ipython3",
   "version": "3.8.3"
  }
 },
 "nbformat": 4,
 "nbformat_minor": 4
}
